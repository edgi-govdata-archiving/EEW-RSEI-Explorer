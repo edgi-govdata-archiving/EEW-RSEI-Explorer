{
 "cells": [
  {
   "cell_type": "code",
   "execution_count": 1,
   "id": "76e949b0",
   "metadata": {},
   "outputs": [],
   "source": [
    "import urllib.parse\n",
    "import pandas as pd\n",
    "from ipywidgets import widgets\n",
    "from IPython.display import clear_output, display\n",
    "\n",
    "BASE_URL = \"https://portal.gss.stonybrook.edu/echoepa/?query=\""
   ]
  },
  {
   "cell_type": "code",
   "execution_count": 2,
   "id": "f862f758",
   "metadata": {},
   "outputs": [],
   "source": [
    "GET_DB_SIZE = \"\"\"\n",
    "SELECT pg_size_pretty(pg_database_size(current_database())) AS size\n",
    "\"\"\"\n",
    "\n",
    "GET_TABLES = \"\"\"\n",
    "  SELECT table_name\n",
    "    FROM information_schema.tables\n",
    "   WHERE table_schema = 'public'\n",
    "     AND table_type = 'BASE TABLE'\n",
    "     AND table_name ILIKE '%%rsei%%'\n",
    "\"\"\"\n",
    "\n",
    "GET_COLUMNS_TEMPLATE = \"\"\"\n",
    "  SELECT column_name\n",
    "    FROM information_schema.columns\n",
    "   WHERE table_schema = 'public'\n",
    "     AND table_name = %s\n",
    "ORDER BY ordinal_position\n",
    "\"\"\"\n",
    "\n",
    "BASIC_SELECT_TEMPLATE = \"\"\"\n",
    "  SELECT %s\n",
    "    FROM %s\n",
    "\"\"\""
   ]
  },
  {
   "cell_type": "code",
   "execution_count": 3,
   "id": "7864e7c9",
   "metadata": {},
   "outputs": [],
   "source": [
    "def _get_data_location(query):\n",
    "    \"\"\"\n",
    "    This function takes a query string and returns the data location URL.\n",
    "    \"\"\"\n",
    "    encoded_query = urllib.parse.quote_plus(query)\n",
    "    data_location = f\"{BASE_URL}{encoded_query}&pg\"\n",
    "    return data_location\n",
    "\n",
    "def run_query(query):\n",
    "    print(query)\n",
    "    data_location = _get_data_location(query)\n",
    "    ds = pd.read_csv(data_location,encoding='iso-8859-1')\n",
    "    return ds\n",
    "\n",
    "def get_columns(table_name):\n",
    "    \"\"\"\n",
    "    This function takes a table name and returns the columns in that table.\n",
    "    \"\"\"\n",
    "    query = GET_COLUMNS_TEMPLATE % f\"'{table_name}'\"\n",
    "    columns = run_query(query)\n",
    "    return columns"
   ]
  },
  {
   "cell_type": "code",
   "execution_count": 4,
   "id": "b3589f29",
   "metadata": {},
   "outputs": [
    {
     "data": {
      "text/plain": [
       "'https://portal.gss.stonybrook.edu/echoepa/?query=SELECT+1&pg'"
      ]
     },
     "execution_count": 4,
     "metadata": {},
     "output_type": "execute_result"
    }
   ],
   "source": [
    "PING = \"SELECT 1\"\n",
    "\n",
    "_get_data_location(PING)"
   ]
  },
  {
   "cell_type": "code",
   "execution_count": 5,
   "id": "0f45106a",
   "metadata": {},
   "outputs": [
    {
     "name": "stdout",
     "output_type": "stream",
     "text": [
      "\n",
      "SELECT pg_size_pretty(pg_database_size(current_database())) AS size\n",
      "\n"
     ]
    },
    {
     "data": {
      "text/html": [
       "<div>\n",
       "<style scoped>\n",
       "    .dataframe tbody tr th:only-of-type {\n",
       "        vertical-align: middle;\n",
       "    }\n",
       "\n",
       "    .dataframe tbody tr th {\n",
       "        vertical-align: top;\n",
       "    }\n",
       "\n",
       "    .dataframe thead th {\n",
       "        text-align: right;\n",
       "    }\n",
       "</style>\n",
       "<table border=\"1\" class=\"dataframe\">\n",
       "  <thead>\n",
       "    <tr style=\"text-align: right;\">\n",
       "      <th></th>\n",
       "      <th>size</th>\n",
       "    </tr>\n",
       "  </thead>\n",
       "  <tbody>\n",
       "    <tr>\n",
       "      <th>0</th>\n",
       "      <td>126 GB</td>\n",
       "    </tr>\n",
       "  </tbody>\n",
       "</table>\n",
       "</div>"
      ],
      "text/plain": [
       "     size\n",
       "0  126 GB"
      ]
     },
     "execution_count": 5,
     "metadata": {},
     "output_type": "execute_result"
    }
   ],
   "source": [
    "run_query(GET_DB_SIZE)"
   ]
  },
  {
   "cell_type": "code",
   "execution_count": 6,
   "id": "6dc8a1bc",
   "metadata": {},
   "outputs": [
    {
     "name": "stdout",
     "output_type": "stream",
     "text": [
      "\n",
      "  SELECT table_name\n",
      "    FROM information_schema.tables\n",
      "   WHERE table_schema = 'public'\n",
      "     AND table_type = 'BASE TABLE'\n",
      "     AND table_name ILIKE '%%rsei%%'\n",
      "\n"
     ]
    },
    {
     "data": {
      "text/html": [
       "<div>\n",
       "<style scoped>\n",
       "    .dataframe tbody tr th:only-of-type {\n",
       "        vertical-align: middle;\n",
       "    }\n",
       "\n",
       "    .dataframe tbody tr th {\n",
       "        vertical-align: top;\n",
       "    }\n",
       "\n",
       "    .dataframe thead th {\n",
       "        text-align: right;\n",
       "    }\n",
       "</style>\n",
       "<table border=\"1\" class=\"dataframe\">\n",
       "  <thead>\n",
       "    <tr style=\"text-align: right;\">\n",
       "      <th></th>\n",
       "      <th>table_name</th>\n",
       "    </tr>\n",
       "  </thead>\n",
       "  <tbody>\n",
       "    <tr>\n",
       "      <th>0</th>\n",
       "      <td>releases_data_rsei_v2312</td>\n",
       "    </tr>\n",
       "    <tr>\n",
       "      <th>1</th>\n",
       "      <td>elements_data_rsei_v2312</td>\n",
       "    </tr>\n",
       "    <tr>\n",
       "      <th>2</th>\n",
       "      <td>offsite_data_rsei_v2312</td>\n",
       "    </tr>\n",
       "    <tr>\n",
       "      <th>3</th>\n",
       "      <td>chemical_data_rsei_v2312</td>\n",
       "    </tr>\n",
       "    <tr>\n",
       "      <th>4</th>\n",
       "      <td>category_data_rsei_v2312</td>\n",
       "    </tr>\n",
       "    <tr>\n",
       "      <th>5</th>\n",
       "      <td>facility_data_rsei_v2312</td>\n",
       "    </tr>\n",
       "    <tr>\n",
       "      <th>6</th>\n",
       "      <td>naics_data_rsei_v2312</td>\n",
       "    </tr>\n",
       "    <tr>\n",
       "      <th>7</th>\n",
       "      <td>mcl_data_rsei_v2312</td>\n",
       "    </tr>\n",
       "    <tr>\n",
       "      <th>8</th>\n",
       "      <td>media_data_rsei_v2312</td>\n",
       "    </tr>\n",
       "    <tr>\n",
       "      <th>9</th>\n",
       "      <td>submissions_data_rsei_v2312</td>\n",
       "    </tr>\n",
       "  </tbody>\n",
       "</table>\n",
       "</div>"
      ],
      "text/plain": [
       "                    table_name\n",
       "0     releases_data_rsei_v2312\n",
       "1     elements_data_rsei_v2312\n",
       "2      offsite_data_rsei_v2312\n",
       "3     chemical_data_rsei_v2312\n",
       "4     category_data_rsei_v2312\n",
       "5     facility_data_rsei_v2312\n",
       "6        naics_data_rsei_v2312\n",
       "7          mcl_data_rsei_v2312\n",
       "8        media_data_rsei_v2312\n",
       "9  submissions_data_rsei_v2312"
      ]
     },
     "execution_count": 6,
     "metadata": {},
     "output_type": "execute_result"
    }
   ],
   "source": [
    "rsei_tables = run_query(GET_TABLES)\n",
    "rsei_tables"
   ]
  },
  {
   "cell_type": "code",
   "execution_count": 7,
   "id": "fdce8827",
   "metadata": {},
   "outputs": [],
   "source": [
    "# OUTPUT DATAFRAME FROM THE QUERY CONSTRUCTED IN THE WIDGET\n",
    "# ==========================================================\n",
    "df = None\n",
    "# =========================================================="
   ]
  },
  {
   "cell_type": "code",
   "execution_count": 8,
   "id": "6c4394b3",
   "metadata": {},
   "outputs": [
    {
     "name": "stdout",
     "output_type": "stream",
     "text": [
      "\n",
      "  SELECT column_name\n",
      "    FROM information_schema.columns\n",
      "   WHERE table_schema = 'public'\n",
      "     AND table_name = 'releases_data_rsei_v2312'\n",
      "ORDER BY ordinal_position\n",
      "\n",
      "\n",
      "  SELECT column_name\n",
      "    FROM information_schema.columns\n",
      "   WHERE table_schema = 'public'\n",
      "     AND table_name = 'releases_data_rsei_v2312'\n",
      "ORDER BY ordinal_position\n",
      "\n"
     ]
    }
   ],
   "source": [
    "# TABLE SELECTION WIDGET (Dropdown)\n",
    "selected_table = widgets.Dropdown(\n",
    "    options=rsei_tables['table_name'].tolist(),\n",
    "    value=rsei_tables['table_name'].tolist()[0],\n",
    "    description='Tables',\n",
    "    disabled=False\n",
    ")\n",
    "table_selection_summary = widgets.HTML(\n",
    "    value=\"Table: \" + selected_table.value,\n",
    "    layout=widgets.Layout(padding='10px 0px 0px 0px')\n",
    ")\n",
    "\n",
    "def on_change_table(change):\n",
    "    selected_columns.options = get_columns(change['new'])['column_name'].tolist()\n",
    "    selected_columns.value = selected_columns.options\n",
    "    table_selection_summary.value = \"Table: \" + change['new']\n",
    "\n",
    "selected_table.observe(on_change_table, names='value')\n",
    "\n",
    "# COLUMN SELECTION WIDGET (Multi-select)\n",
    "selected_columns = widgets.SelectMultiple(\n",
    "    options=get_columns(selected_table.value)['column_name'].tolist(),\n",
    "    value=get_columns(selected_table.value)['column_name'].tolist(),\n",
    "    description='Columns',\n",
    "    disabled=False,\n",
    "    layout=widgets.Layout(width='50%', height='200px')\n",
    ")\n",
    "columns_selection_summary = widgets.HTML(\n",
    "    value=\"Columns: \" + \", \".join(selected_columns.value),\n",
    "    layout=widgets.Layout(padding='10px 0px 0px 0px')\n",
    ")\n",
    "\n",
    "def on_change_columns(change):\n",
    "    columns_selection_summary.value = \"Columns: \" + \", \".join(change['new'])\n",
    "\n",
    "selected_columns.observe(on_change_columns, names='value')\n",
    "\n",
    "# BUTTON TO FETCH THE RSEI DATA\n",
    "fetch_data_button = widgets.Button(description=\"Fetch data\", button_style='success')\n",
    "df_output = widgets.Output()\n",
    "\n",
    "def _escape_column_names(columns):\n",
    "    \"\"\"\n",
    "    This function takes a list of column names and returns a list of escaped column names.\n",
    "    \"\"\"\n",
    "    return [f'\"{col}\"' for col in columns]\n",
    "\n",
    "def on_fetch_data_clicked(button):\n",
    "    with df_output:\n",
    "        global df\n",
    "        clear_output()\n",
    "        selected_columns_str = \", \".join(_escape_column_names(selected_columns.value))\n",
    "        query = BASIC_SELECT_TEMPLATE % (selected_columns_str, selected_table.value)\n",
    "        show_spinner()\n",
    "        df = run_query(query)\n",
    "        hide_spinner()\n",
    "        if df.empty:\n",
    "            print(\"No data found.\")\n",
    "        else:\n",
    "            display(df)\n",
    "            \n",
    "fetch_data_button.on_click(on_fetch_data_clicked)"
   ]
  },
  {
   "cell_type": "code",
   "execution_count": 9,
   "id": "73eb8270",
   "metadata": {},
   "outputs": [],
   "source": [
    "# Spinner HTML\n",
    "spinner_html = \"\"\"\n",
    "<div class=\"loader\" style=\"\n",
    "  border: 4px solid #f3f3f3;\n",
    "  border-top: 4px solid #3498db;\n",
    "  border-radius: 50%;\n",
    "  width: 24px;\n",
    "  height: 24px;\n",
    "  animation: spin 1s linear infinite;\n",
    "\">\n",
    "<style>\n",
    "@keyframes spin {\n",
    "  0% { transform: rotate(0deg); }\n",
    "  100% { transform: rotate(360deg); }\n",
    "}\n",
    "</style>\n",
    "</div>\n",
    "\"\"\"\n",
    "spinner = widgets.HTML(spinner_html)\n",
    "container = widgets.VBox([])\n",
    "\n",
    "def show_spinner():\n",
    "    if spinner not in container.children:\n",
    "        container.children = [spinner]\n",
    "\n",
    "def hide_spinner():\n",
    "    container.children = []"
   ]
  },
  {
   "cell_type": "code",
   "execution_count": 10,
   "id": "89d74b1c",
   "metadata": {},
   "outputs": [
    {
     "data": {
      "application/vnd.jupyter.widget-view+json": {
       "model_id": "0caa704db19846d7ab2b1df3f0d3b986",
       "version_major": 2,
       "version_minor": 0
      },
      "text/plain": [
       "VBox(children=(HBox(children=(Dropdown(description='Tables', options=('releases_data_rsei_v2312', 'elements_da…"
      ]
     },
     "metadata": {},
     "output_type": "display_data"
    },
    {
     "data": {
      "application/vnd.jupyter.widget-view+json": {
       "model_id": "27f9648952f3450eacf148d9a4553a45",
       "version_major": 2,
       "version_minor": 0
      },
      "text/plain": [
       "VBox()"
      ]
     },
     "metadata": {},
     "output_type": "display_data"
    }
   ],
   "source": [
    "selection_widgets = widgets.HBox(\n",
    "    [selected_table, selected_columns], \n",
    "    layout=widgets.Layout(\n",
    "        width='100%', \n",
    "        height='300px',\n",
    "    )\n",
    ")\n",
    "\n",
    "display(widgets.VBox(\n",
    "    [\n",
    "        selection_widgets,\n",
    "        table_selection_summary,\n",
    "        columns_selection_summary,\n",
    "        fetch_data_button,\n",
    "        df_output\n",
    "    ],\n",
    "    layout=widgets.Layout(\n",
    "        width='100%',\n",
    "        height='auto',\n",
    "        justify_content='space-around',\n",
    "    )\n",
    "), container)"
   ]
  },
  {
   "cell_type": "code",
   "execution_count": 12,
   "id": "614fd2fb",
   "metadata": {},
   "outputs": [
    {
     "data": {
      "text/html": [
       "<div>\n",
       "<style scoped>\n",
       "    .dataframe tbody tr th:only-of-type {\n",
       "        vertical-align: middle;\n",
       "    }\n",
       "\n",
       "    .dataframe tbody tr th {\n",
       "        vertical-align: top;\n",
       "    }\n",
       "\n",
       "    .dataframe thead th {\n",
       "        text-align: right;\n",
       "    }\n",
       "</style>\n",
       "<table border=\"1\" class=\"dataframe\">\n",
       "  <thead>\n",
       "    <tr style=\"text-align: right;\">\n",
       "      <th></th>\n",
       "      <th>ReleaseNumber</th>\n",
       "      <th>SubmissionNumber</th>\n",
       "      <th>PoundsReleased</th>\n",
       "    </tr>\n",
       "  </thead>\n",
       "  <tbody>\n",
       "    <tr>\n",
       "      <th>0</th>\n",
       "      <td>9977861</td>\n",
       "      <td>2998525</td>\n",
       "      <td>103.33</td>\n",
       "    </tr>\n",
       "    <tr>\n",
       "      <th>1</th>\n",
       "      <td>9977862</td>\n",
       "      <td>2998525</td>\n",
       "      <td>103.33</td>\n",
       "    </tr>\n",
       "    <tr>\n",
       "      <th>2</th>\n",
       "      <td>9977863</td>\n",
       "      <td>2998525</td>\n",
       "      <td>103.33</td>\n",
       "    </tr>\n",
       "    <tr>\n",
       "      <th>3</th>\n",
       "      <td>9977864</td>\n",
       "      <td>2998522</td>\n",
       "      <td>2.67</td>\n",
       "    </tr>\n",
       "    <tr>\n",
       "      <th>4</th>\n",
       "      <td>9977865</td>\n",
       "      <td>2998520</td>\n",
       "      <td>266.67</td>\n",
       "    </tr>\n",
       "    <tr>\n",
       "      <th>...</th>\n",
       "      <td>...</td>\n",
       "      <td>...</td>\n",
       "      <td>...</td>\n",
       "    </tr>\n",
       "    <tr>\n",
       "      <th>7779853</th>\n",
       "      <td>9977856</td>\n",
       "      <td>2998530</td>\n",
       "      <td>257.14</td>\n",
       "    </tr>\n",
       "    <tr>\n",
       "      <th>7779854</th>\n",
       "      <td>9977857</td>\n",
       "      <td>2998530</td>\n",
       "      <td>257.14</td>\n",
       "    </tr>\n",
       "    <tr>\n",
       "      <th>7779855</th>\n",
       "      <td>9977858</td>\n",
       "      <td>2998530</td>\n",
       "      <td>257.14</td>\n",
       "    </tr>\n",
       "    <tr>\n",
       "      <th>7779856</th>\n",
       "      <td>9977859</td>\n",
       "      <td>2998530</td>\n",
       "      <td>257.14</td>\n",
       "    </tr>\n",
       "    <tr>\n",
       "      <th>7779857</th>\n",
       "      <td>9977860</td>\n",
       "      <td>2998525</td>\n",
       "      <td>103.33</td>\n",
       "    </tr>\n",
       "  </tbody>\n",
       "</table>\n",
       "<p>7779858 rows × 3 columns</p>\n",
       "</div>"
      ],
      "text/plain": [
       "         ReleaseNumber  SubmissionNumber  PoundsReleased\n",
       "0              9977861           2998525          103.33\n",
       "1              9977862           2998525          103.33\n",
       "2              9977863           2998525          103.33\n",
       "3              9977864           2998522            2.67\n",
       "4              9977865           2998520          266.67\n",
       "...                ...               ...             ...\n",
       "7779853        9977856           2998530          257.14\n",
       "7779854        9977857           2998530          257.14\n",
       "7779855        9977858           2998530          257.14\n",
       "7779856        9977859           2998530          257.14\n",
       "7779857        9977860           2998525          103.33\n",
       "\n",
       "[7779858 rows x 3 columns]"
      ]
     },
     "execution_count": 12,
     "metadata": {},
     "output_type": "execute_result"
    }
   ],
   "source": [
    "df"
   ]
  }
 ],
 "metadata": {
  "kernelspec": {
   "display_name": "venv",
   "language": "python",
   "name": "python3"
  },
  "language_info": {
   "codemirror_mode": {
    "name": "ipython",
    "version": 3
   },
   "file_extension": ".py",
   "mimetype": "text/x-python",
   "name": "python",
   "nbconvert_exporter": "python",
   "pygments_lexer": "ipython3",
   "version": "3.12.0"
  }
 },
 "nbformat": 4,
 "nbformat_minor": 5
}
